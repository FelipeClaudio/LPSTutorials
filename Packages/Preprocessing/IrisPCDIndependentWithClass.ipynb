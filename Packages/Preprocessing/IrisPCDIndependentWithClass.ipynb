{
 "cells": [
  {
   "cell_type": "code",
   "execution_count": 1,
   "metadata": {
    "collapsed": true,
    "deletable": true,
    "editable": true
   },
   "outputs": [],
   "source": [
    "# Tutorial de Extração de Componentes Principais de Discriminação no banco de dados Iris\n",
    "\n",
    "# Autor: Natanael Junior (natmourajr@gmail.com)\n",
    "# Laboratorio de Processamento de Sinais - UFRJ"
   ]
  },
  {
   "cell_type": "code",
   "execution_count": null,
   "metadata": {
    "collapsed": false,
    "deletable": true,
    "editable": true
   },
   "outputs": [
    {
     "name": "stdout",
     "output_type": "stream",
     "text": [
      "CPU times: user 1e+03 ns, sys: 1 µs, total: 2 µs\n",
      "Wall time: 4.05 µs\n"
     ]
    }
   ],
   "source": [
    "# Import Libs\n",
    "%time\n",
    "\n",
    "import os\n",
    "import pickle\n",
    "import numpy as np\n",
    "\n",
    "import matplotlib.pyplot as plt\n",
    "%matplotlib inline\n",
    "\n",
    "plt.rcParams['lines.linewidth'] = 2\n",
    "plt.rcParams['legend.handlelength'] = 3\n",
    "plt.rcParams['legend.borderpad'] = 0.3\n",
    "plt.rcParams['legend.numpoints'] = 1\n",
    "plt.rcParams['xtick.labelsize'] = 18\n",
    "plt.rcParams['font.weight'] = 'bold'\n",
    "plt.rcParams['ytick.labelsize'] = 20\n"
   ]
  },
  {
   "cell_type": "code",
   "execution_count": null,
   "metadata": {
    "collapsed": false,
    "deletable": true,
    "editable": true
   },
   "outputs": [
    {
     "name": "stdout",
     "output_type": "stream",
     "text": [
      "CPU times: user 1 µs, sys: 1 µs, total: 2 µs\n",
      "Wall time: 5.01 µs\n"
     ]
    },
    {
     "name": "stderr",
     "output_type": "stream",
     "text": [
      "Using Theano backend.\n"
     ]
    }
   ],
   "source": [
    "# Read Data\n",
    "%time\n",
    "from keras.utils import np_utils\n",
    "\n",
    "from sklearn import datasets\n",
    "\n",
    "# import some data to play with\n",
    "iris = datasets.load_iris()\n",
    "data = iris.data # iris data\n",
    "trgt = iris.target # iris data\n",
    "iris_colors = ['b','r','g']\n",
    "iris_labels = ['Setosa','Versicolor','Virginica']\n",
    "\n",
    "# for classification -> target max sparse\n",
    "trgt_sparse = np_utils.to_categorical(trgt)"
   ]
  },
  {
   "cell_type": "code",
   "execution_count": null,
   "metadata": {
    "collapsed": false,
    "deletable": true,
    "editable": true
   },
   "outputs": [],
   "source": [
    "%time\n",
    "from sklearn import cross_validation\n",
    "from sklearn import preprocessing\n",
    "\n",
    "from PreProcessing import PCDIndependent, PCDCooperative, TrnParams\n",
    "\n",
    "\n",
    "# do some cv indexes\n",
    "\n",
    "n_folds = 2\n",
    "CVO = cross_validation.StratifiedKFold(trgt, n_folds)\n",
    "CVO = list(CVO)\n",
    "\n",
    "trn_params = TrnParams(batch_size=9, n_epochs=600,learning_rate=0.001, learning_decay=0.00001, verbose=True)\n",
    "\n",
    "pcdi = {}\n",
    "pcdc = {}\n",
    "\n",
    "for ifold in range(n_folds):\n",
    "    train_id, test_id = CVO[ifold]\n",
    "    \n",
    "    #scaler = preprocessing.MinMaxScaler().fit(data[train_id,:])\n",
    "    scaler = preprocessing.StandardScaler().fit(data[train_id,:])\n",
    "    \n",
    "    norm_data = scaler.transform(data)\n",
    "\n",
    "    #pcdi[ifold] = PCDIndependent(n_components=4)\n",
    "    #pcdi[ifold].fit(norm_data, trgt_sparse, train_id, test_id,trn_params=trn_params)\n",
    "    \n",
    "    pcdc[ifold] = PCDCooperative(n_components=2)\n",
    "    pcdc[ifold].fit(norm_data, trgt_sparse, train_id, test_id,trn_params=trn_params)\n",
    "    \n",
    "    break\n"
   ]
  },
  {
   "cell_type": "code",
   "execution_count": null,
   "metadata": {
    "collapsed": false
   },
   "outputs": [],
   "source": [
    "from keras import backend as K\n",
    "\n",
    "\n",
    "print pcdc[0].transform(norm_data,use_activation=False).shape\n"
   ]
  },
  {
   "cell_type": "code",
   "execution_count": null,
   "metadata": {
    "collapsed": false
   },
   "outputs": [],
   "source": [
    "model.layers"
   ]
  }
 ],
 "metadata": {
  "kernelspec": {
   "display_name": "Python 2",
   "language": "python",
   "name": "python2"
  },
  "language_info": {
   "codemirror_mode": {
    "name": "ipython",
    "version": 2
   },
   "file_extension": ".py",
   "mimetype": "text/x-python",
   "name": "python",
   "nbconvert_exporter": "python",
   "pygments_lexer": "ipython2",
   "version": "2.7.6"
  }
 },
 "nbformat": 4,
 "nbformat_minor": 1
}
